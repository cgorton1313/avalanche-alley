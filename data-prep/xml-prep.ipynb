{
 "cells": [
  {
   "cell_type": "markdown",
   "id": "ee750210",
   "metadata": {},
   "source": [
    "## SnowPit Data - XML data to python dataframe\n",
    "#### Alexis Emerson"
   ]
  },
  {
   "cell_type": "code",
   "execution_count": 3,
   "id": "3de35460",
   "metadata": {},
   "outputs": [],
   "source": [
    "import xmltodict"
   ]
  },
  {
   "cell_type": "code",
   "execution_count": 7,
   "id": "921cce42",
   "metadata": {},
   "outputs": [
    {
     "ename": "ExpatError",
     "evalue": "not well-formed (invalid token): line 1, column 8",
     "output_type": "error",
     "traceback": [
      "\u001b[1;31m---------------------------------------------------------------------------\u001b[0m",
      "\u001b[1;31mExpatError\u001b[0m                                Traceback (most recent call last)",
      "Input \u001b[1;32mIn [7]\u001b[0m, in \u001b[0;36m<cell line: 2>\u001b[1;34m()\u001b[0m\n\u001b[0;32m      1\u001b[0m file_path \u001b[38;5;241m=\u001b[39m \u001b[38;5;124m\"\u001b[39m\u001b[38;5;124m../raw_data/sp/all-MT.xml\u001b[39m\u001b[38;5;124m\"\u001b[39m\n\u001b[0;32m      2\u001b[0m \u001b[38;5;28;01mwith\u001b[39;00m \u001b[38;5;28mopen\u001b[39m(file_path, \u001b[38;5;124m\"\u001b[39m\u001b[38;5;124mrb\u001b[39m\u001b[38;5;124m\"\u001b[39m) \u001b[38;5;28;01mas\u001b[39;00m file:\n\u001b[1;32m----> 3\u001b[0m     pit_data \u001b[38;5;241m=\u001b[39m \u001b[43mxmltodict\u001b[49m\u001b[38;5;241;43m.\u001b[39;49m\u001b[43mparse\u001b[49m\u001b[43m(\u001b[49m\u001b[43mfile\u001b[49m\u001b[43m)\u001b[49m\n",
      "File \u001b[1;32mC:\\ProgramData\\Anaconda3\\lib\\site-packages\\xmltodict.py:325\u001b[0m, in \u001b[0;36mparse\u001b[1;34m(xml_input, encoding, expat, process_namespaces, namespace_separator, disable_entities, **kwargs)\u001b[0m\n\u001b[0;32m    323\u001b[0m         parser\u001b[38;5;241m.\u001b[39mExternalEntityRefHandler \u001b[38;5;241m=\u001b[39m \u001b[38;5;28;01mlambda\u001b[39;00m \u001b[38;5;241m*\u001b[39mx: \u001b[38;5;241m1\u001b[39m\n\u001b[0;32m    324\u001b[0m \u001b[38;5;28;01mif\u001b[39;00m \u001b[38;5;28mhasattr\u001b[39m(xml_input, \u001b[38;5;124m'\u001b[39m\u001b[38;5;124mread\u001b[39m\u001b[38;5;124m'\u001b[39m):\n\u001b[1;32m--> 325\u001b[0m     \u001b[43mparser\u001b[49m\u001b[38;5;241;43m.\u001b[39;49m\u001b[43mParseFile\u001b[49m\u001b[43m(\u001b[49m\u001b[43mxml_input\u001b[49m\u001b[43m)\u001b[49m\n\u001b[0;32m    326\u001b[0m \u001b[38;5;28;01melse\u001b[39;00m:\n\u001b[0;32m    327\u001b[0m     parser\u001b[38;5;241m.\u001b[39mParse(xml_input, \u001b[38;5;28;01mTrue\u001b[39;00m)\n",
      "\u001b[1;31mExpatError\u001b[0m: not well-formed (invalid token): line 1, column 8"
     ]
    }
   ],
   "source": [
    "file_path = \"../raw_data/sp/all-MT.xml\"\n",
    "with open(file_path, \"rb\") as file:\n",
    "    pit_data = xmltodict.parse(file)"
   ]
  },
  {
   "cell_type": "code",
   "execution_count": null,
   "id": "a5dd4fc8",
   "metadata": {},
   "outputs": [],
   "source": []
  }
 ],
 "metadata": {
  "kernelspec": {
   "display_name": "Python 3 (ipykernel)",
   "language": "python",
   "name": "python3"
  },
  "language_info": {
   "codemirror_mode": {
    "name": "ipython",
    "version": 3
   },
   "file_extension": ".py",
   "mimetype": "text/x-python",
   "name": "python",
   "nbconvert_exporter": "python",
   "pygments_lexer": "ipython3",
   "version": "3.9.12"
  }
 },
 "nbformat": 4,
 "nbformat_minor": 5
}
