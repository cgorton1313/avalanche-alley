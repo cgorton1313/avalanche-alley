{
 "cells": [
  {
   "cell_type": "markdown",
   "id": "d0ecbd2c",
   "metadata": {},
   "source": [
    "## RADS Level Presentation\n",
    "#### By Charlotte :)"
   ]
  },
  {
   "cell_type": "markdown",
   "id": "fcfb6b6c",
   "metadata": {},
   "source": [
    "#### Importing things I need"
   ]
  },
  {
   "cell_type": "code",
   "execution_count": 1,
   "id": "824705a9",
   "metadata": {},
   "outputs": [],
   "source": [
    "import pandas as pd\n",
    "import matplotlib.pyplot as plt"
   ]
  },
  {
   "cell_type": "markdown",
   "id": "e760fdc8",
   "metadata": {},
   "source": [
    "#### Reading the Pkls with the RADS Levl Info and the Avalanche Info"
   ]
  },
  {
   "cell_type": "code",
   "execution_count": 2,
   "id": "86cbfb93",
   "metadata": {},
   "outputs": [],
   "source": [
    "rads = pd.read_pickle('../data-prep/pkl/rads.pkl')\n",
    "rads['Date']= pd.to_datetime(rads['Date'])\n",
    "avy = pd.read_pickle('../data-prep/pkl/avy_obs.pkl')"
   ]
  },
  {
   "cell_type": "markdown",
   "id": "01fd5f5a",
   "metadata": {},
   "source": [
    "#### Making a new Dataframe that combines the RADS information and the Avalanche Information"
   ]
  },
  {
   "cell_type": "code",
   "execution_count": 3,
   "id": "ffe56e7f",
   "metadata": {},
   "outputs": [],
   "source": [
    "avy['Date']= avy['avobsdate']"
   ]
  },
  {
   "cell_type": "code",
   "execution_count": 4,
   "id": "f1e0669f",
   "metadata": {},
   "outputs": [],
   "source": [
    "radsavy = pd.merge(rads, avy, on=[\"Date\"])\n",
    "#https://realpython.com/pandas-merge-join-and-concat/"
   ]
  },
  {
   "cell_type": "markdown",
   "id": "5624c237",
   "metadata": {},
   "source": [
    "#### I'm trying to make a piechart but first I have to get my data into lists"
   ]
  },
  {
   "cell_type": "markdown",
   "id": "1d3b9a92",
   "metadata": {},
   "source": [
    "#### Here I've found how many of each level we have in the original RADS dataframe"
   ]
  },
  {
   "cell_type": "code",
   "execution_count": 5,
   "id": "45d6efdb",
   "metadata": {},
   "outputs": [
    {
     "data": {
      "text/plain": [
       "1    384\n",
       "2    328\n",
       "3     68\n",
       "4     10\n",
       "5      4\n",
       "Name: Level, dtype: int64"
      ]
     },
     "execution_count": 5,
     "metadata": {},
     "output_type": "execute_result"
    }
   ],
   "source": [
    "levelstot = rads['Level'].value_counts()\n",
    "levelstot"
   ]
  },
  {
   "cell_type": "markdown",
   "id": "9fd574a4",
   "metadata": {},
   "source": [
    "#### We can see that there are 384 Level 1s, 328 Level 2s, etc."
   ]
  },
  {
   "cell_type": "markdown",
   "id": "611da0ed",
   "metadata": {},
   "source": [
    "#### Now I'm taking this information to find how many levels we have in our dataframe"
   ]
  },
  {
   "cell_type": "code",
   "execution_count": 6,
   "id": "b2a4d44a",
   "metadata": {},
   "outputs": [
    {
     "data": {
      "text/plain": [
       "794"
      ]
     },
     "execution_count": 6,
     "metadata": {},
     "output_type": "execute_result"
    }
   ],
   "source": [
    "levelssum = 384+328+68+10+4\n",
    "levelssum"
   ]
  },
  {
   "cell_type": "markdown",
   "id": "8ad91929",
   "metadata": {},
   "source": [
    "#### There are 794 entries of Levels in total"
   ]
  },
  {
   "cell_type": "markdown",
   "id": "41c02c1f",
   "metadata": {},
   "source": [
    "#### Now I want the percentage of each Level in the Dataframe"
   ]
  },
  {
   "cell_type": "code",
   "execution_count": 7,
   "id": "5aa5cf2c",
   "metadata": {},
   "outputs": [
    {
     "data": {
      "text/plain": [
       "[0.4836272040302267,\n",
       " 0.41309823677581864,\n",
       " 0.08564231738035265,\n",
       " 0.012594458438287154,\n",
       " 0.005037783375314861]"
      ]
     },
     "execution_count": 7,
     "metadata": {},
     "output_type": "execute_result"
    }
   ],
   "source": [
    "levelsaver = [384/794, 328/794, 68/794, 10/794, 4/794]\n",
    "#794\n",
    "levelsaver"
   ]
  },
  {
   "cell_type": "markdown",
   "id": "65774861",
   "metadata": {},
   "source": [
    "#### These are in order of Level so we can see that Level 1 is 48% of the entries"
   ]
  },
  {
   "cell_type": "markdown",
   "id": "7449ee88",
   "metadata": {},
   "source": [
    "#### Now I'm getting information about the Levels when there is an avalanche. For example, this is telling us that there are 203 avalanches where the Level was 2"
   ]
  },
  {
   "cell_type": "code",
   "execution_count": 8,
   "id": "d5a09f5e",
   "metadata": {},
   "outputs": [
    {
     "data": {
      "text/plain": [
       "2    203\n",
       "3    157\n",
       "1     56\n",
       "4     46\n",
       "5     23\n",
       "Name: Level, dtype: int64"
      ]
     },
     "execution_count": 8,
     "metadata": {},
     "output_type": "execute_result"
    }
   ],
   "source": [
    "levelsavy = radsavy['Level'].value_counts()\n",
    "levelsavy"
   ]
  },
  {
   "cell_type": "markdown",
   "id": "0d96a11e",
   "metadata": {},
   "source": [
    "#### Now I want to get percentages for my pie chart. \n",
    "\n",
    "#### With these percentages we first take the percentage of a Level in the total Level entries (such as 48% for Level 1. We put this decimal under 1 because we are trying to weigh the percentage. \n",
    "\n",
    "#### And then we multiple it by numbers above which show the number of avalanches during a Level"
   ]
  },
  {
   "cell_type": "code",
   "execution_count": 9,
   "id": "b9e46f82",
   "metadata": {},
   "outputs": [
    {
     "data": {
      "text/plain": [
       "[115.79166666666667,\n",
       " 491.4085365853659,\n",
       " 1833.205882352941,\n",
       " 3652.3999999999996,\n",
       " 4565.5]"
      ]
     },
     "execution_count": 9,
     "metadata": {},
     "output_type": "execute_result"
    }
   ],
   "source": [
    "levelsper = [(1/0.4836272040302267)*56, 1/(0.41309823677581864)*203, 1/(0.08564231738035265)*157, 1/(0.012594458438287154)*46, 1/(0.005037783375314861)*23]\n",
    "levelsper"
   ]
  },
  {
   "cell_type": "markdown",
   "id": "525c2241",
   "metadata": {},
   "source": [
    "#### With this list, we can make a piechart"
   ]
  },
  {
   "cell_type": "code",
   "execution_count": 10,
   "id": "b3f6138b",
   "metadata": {},
   "outputs": [
    {
     "data": {
      "text/plain": [
       "([<matplotlib.patches.Wedge at 0x7f930b85e730>,\n",
       "  <matplotlib.patches.Wedge at 0x7f930b85f130>,\n",
       "  <matplotlib.patches.Wedge at 0x7f930b85faf0>,\n",
       "  <matplotlib.patches.Wedge at 0x7f930b8604f0>,\n",
       "  <matplotlib.patches.Wedge at 0x7f930b860eb0>],\n",
       " [Text(1.099359383033118, 0.037535941936254584, 'Level 1'),\n",
       "  Text(1.075116662458594, 0.23264600169333244, 'Level 2'),\n",
       "  Text(0.6852363423172362, 0.8604947153630262, 'Level 3'),\n",
       "  Text(-0.8911685531675553, 0.6448399877839822, 'Level 4'),\n",
       "  Text(0.24551414215175343, -1.0722512793200523, 'Level 5')])"
      ]
     },
     "execution_count": 10,
     "metadata": {},
     "output_type": "execute_result"
    },
    {
     "data": {
      "image/png": "[encoded data removed]",
      "text/plain": [
       "<Figure size 432x288 with 1 Axes>"
      ]
     },
     "metadata": {},
     "output_type": "display_data"
    }
   ],
   "source": [
    "plt.pie(levelsper, labels = ['Level 1', 'Level 2', 'Level 3', 'Level 4', 'Level 5'])"
   ]
  },
  {
   "cell_type": "markdown",
   "id": "44541b7f",
   "metadata": {},
   "source": [
    "#### Here is the pie chart. It shows the percentage of avalanches during a certain level. Yay!"
   ]
  },
  {
   "cell_type": "code",
   "execution_count": null,
   "id": "eccf6c5c",
   "metadata": {},
   "outputs": [],
   "source": []
  }
 ],
 "metadata": {
  "kernelspec": {
   "display_name": "Python 3 (ipykernel)",
   "language": "python",
   "name": "python3"
  },
  "language_info": {
   "codemirror_mode": {
    "name": "ipython",
    "version": 3
   },
   "file_extension": ".py",
   "mimetype": "text/x-python",
   "name": "python",
   "nbconvert_exporter": "python",
   "pygments_lexer": "ipython3",
   "version": "3.9.12"
  }
 },
 "nbformat": 4,
 "nbformat_minor": 5
}
