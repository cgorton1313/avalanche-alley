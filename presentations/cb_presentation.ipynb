{
 "cells": [
  {
   "cell_type": "markdown",
   "id": "0e5ca553",
   "metadata": {},
   "source": [
    "## RADS Level Presentation\n",
    "#### By Charlotte :)"
   ]
  },
  {
   "cell_type": "markdown",
   "id": "56ca85df",
   "metadata": {},
   "source": [
    "#### Importing things I need"
   ]
  },
  {
   "cell_type": "code",
   "execution_count": 1,
   "id": "16e7506d",
   "metadata": {},
   "outputs": [],
   "source": [
    "import pandas as pd\n",
    "import matplotlib.pyplot as plt"
   ]
  },
  {
   "cell_type": "markdown",
   "id": "f0ab30a1",
   "metadata": {},
   "source": [
    "#### Reading the Pkls with the RADS Level Info and the Avalanche Info"
   ]
  },
  {
   "cell_type": "code",
   "execution_count": 2,
   "id": "5dddb15d",
   "metadata": {},
   "outputs": [],
   "source": [
    "rads = pd.read_pickle('../data-prep/pkl/rads.pkl')\n",
    "rads['Date']= pd.to_datetime(rads['Date'])\n",
    "avy = pd.read_pickle('../data-prep/pkl/avy_obs.pkl')"
   ]
  },
  {
   "cell_type": "markdown",
   "id": "62217d71",
   "metadata": {},
   "source": [
    "#### Making a new Dataframe that combines the RADS information and the Avalanche Information"
   ]
  },
  {
   "cell_type": "code",
   "execution_count": 3,
   "id": "b84095ac",
   "metadata": {},
   "outputs": [],
   "source": [
    "avy['Date'] = avy['avobsdate']"
   ]
  },
  {
   "cell_type": "code",
   "execution_count": 4,
   "id": "7fae6599",
   "metadata": {},
   "outputs": [
    {
     "data": {
      "text/html": [
       "<div>\n",
       "<style scoped>\n",
       "    .dataframe tbody tr th:only-of-type {\n",
       "        vertical-align: middle;\n",
       "    }\n",
       "\n",
       "    .dataframe tbody tr th {\n",
       "        vertical-align: top;\n",
       "    }\n",
       "\n",
       "    .dataframe thead th {\n",
       "        text-align: right;\n",
       "    }\n",
       "</style>\n",
       "<table border=\"1\" class=\"dataframe\">\n",
       "  <thead>\n",
       "    <tr style=\"text-align: right;\">\n",
       "      <th></th>\n",
       "      <th>Date</th>\n",
       "      <th>Time</th>\n",
       "      <th>Score</th>\n",
       "      <th>Level</th>\n",
       "      <th>avpathid</th>\n",
       "      <th>avobsdate</th>\n",
       "      <th>avobstime</th>\n",
       "      <th>avobserverid</th>\n",
       "      <th>avtype</th>\n",
       "      <th>avtriggertyp</th>\n",
       "      <th>...</th>\n",
       "      <th>deb_hwy</th>\n",
       "      <th>deb_hwy_w</th>\n",
       "      <th>deb_hwy_d</th>\n",
       "      <th>avcomment</th>\n",
       "      <th>edcr_user</th>\n",
       "      <th>edcr_time</th>\n",
       "      <th>edcr_ip</th>\n",
       "      <th>eded_user</th>\n",
       "      <th>eded_time</th>\n",
       "      <th>eded_ip</th>\n",
       "    </tr>\n",
       "  </thead>\n",
       "  <tbody>\n",
       "    <tr>\n",
       "      <th>0</th>\n",
       "      <td>2007-01-19</td>\n",
       "      <td>00:00:00</td>\n",
       "      <td>NaN</td>\n",
       "      <td>2</td>\n",
       "      <td>SHED11</td>\n",
       "      <td>2007-01-19</td>\n",
       "      <td>13:20:00</td>\n",
       "      <td>stein_01</td>\n",
       "      <td>U</td>\n",
       "      <td>NaN</td>\n",
       "      <td>...</td>\n",
       "      <td>False</td>\n",
       "      <td>0.0</td>\n",
       "      <td>0.0</td>\n",
       "      <td>NaN</td>\n",
       "      <td>NaN</td>\n",
       "      <td>2016-03-17 11:50:56</td>\n",
       "      <td>NaN</td>\n",
       "      <td>NaN</td>\n",
       "      <td>0000-00-00 00:00:00</td>\n",
       "      <td>NaN</td>\n",
       "    </tr>\n",
       "    <tr>\n",
       "      <th>1</th>\n",
       "      <td>2007-02-07</td>\n",
       "      <td>00:00:00</td>\n",
       "      <td>NaN</td>\n",
       "      <td>1</td>\n",
       "      <td>SHED11</td>\n",
       "      <td>2007-02-07</td>\n",
       "      <td>09:30:00</td>\n",
       "      <td>stein_01</td>\n",
       "      <td>GS</td>\n",
       "      <td>5.0</td>\n",
       "      <td>...</td>\n",
       "      <td>False</td>\n",
       "      <td>0.0</td>\n",
       "      <td>0.0</td>\n",
       "      <td>Debris terminated in bottom of run out, but st...</td>\n",
       "      <td>NaN</td>\n",
       "      <td>2016-03-17 11:50:56</td>\n",
       "      <td>NaN</td>\n",
       "      <td>Adam</td>\n",
       "      <td>2020-05-28 14:26:45</td>\n",
       "      <td>139.51.15.17</td>\n",
       "    </tr>\n",
       "    <tr>\n",
       "      <th>2</th>\n",
       "      <td>2007-02-07</td>\n",
       "      <td>00:00:00</td>\n",
       "      <td>NaN</td>\n",
       "      <td>1</td>\n",
       "      <td>JAVA</td>\n",
       "      <td>2007-02-07</td>\n",
       "      <td>09:45:00</td>\n",
       "      <td>clark_01</td>\n",
       "      <td>SS</td>\n",
       "      <td>5.0</td>\n",
       "      <td>...</td>\n",
       "      <td>False</td>\n",
       "      <td>0.0</td>\n",
       "      <td>0.0</td>\n",
       "      <td>Located on the top of Java Mountain.</td>\n",
       "      <td>Adam</td>\n",
       "      <td>2020-05-28 14:31:17</td>\n",
       "      <td>139.51.15.17</td>\n",
       "      <td>NaN</td>\n",
       "      <td>0000-00-00 00:00:00</td>\n",
       "      <td>NaN</td>\n",
       "    </tr>\n",
       "    <tr>\n",
       "      <th>3</th>\n",
       "      <td>2007-02-16</td>\n",
       "      <td>00:00:00</td>\n",
       "      <td>NaN</td>\n",
       "      <td>1</td>\n",
       "      <td>PATH1163</td>\n",
       "      <td>2007-02-16</td>\n",
       "      <td>10:10:00</td>\n",
       "      <td>stein_01</td>\n",
       "      <td>L</td>\n",
       "      <td>5.0</td>\n",
       "      <td>...</td>\n",
       "      <td>False</td>\n",
       "      <td>0.0</td>\n",
       "      <td>0.0</td>\n",
       "      <td>Debris ran 1/2 path terminating above the rail.</td>\n",
       "      <td>NaN</td>\n",
       "      <td>2016-03-17 11:50:56</td>\n",
       "      <td>NaN</td>\n",
       "      <td>Adam</td>\n",
       "      <td>2020-05-28 14:27:39</td>\n",
       "      <td>139.51.15.17</td>\n",
       "    </tr>\n",
       "    <tr>\n",
       "      <th>4</th>\n",
       "      <td>2007-02-16</td>\n",
       "      <td>00:00:00</td>\n",
       "      <td>NaN</td>\n",
       "      <td>1</td>\n",
       "      <td>JAKES</td>\n",
       "      <td>2007-02-16</td>\n",
       "      <td>10:10:00</td>\n",
       "      <td>stein_01</td>\n",
       "      <td>SS</td>\n",
       "      <td>5.0</td>\n",
       "      <td>...</td>\n",
       "      <td>False</td>\n",
       "      <td>0.0</td>\n",
       "      <td>0.0</td>\n",
       "      <td>Debris ran 1/2 path terminating above the rail.</td>\n",
       "      <td>NaN</td>\n",
       "      <td>2016-03-17 11:50:56</td>\n",
       "      <td>NaN</td>\n",
       "      <td>Adam</td>\n",
       "      <td>2020-05-28 14:28:15</td>\n",
       "      <td>139.51.15.17</td>\n",
       "    </tr>\n",
       "    <tr>\n",
       "      <th>...</th>\n",
       "      <td>...</td>\n",
       "      <td>...</td>\n",
       "      <td>...</td>\n",
       "      <td>...</td>\n",
       "      <td>...</td>\n",
       "      <td>...</td>\n",
       "      <td>...</td>\n",
       "      <td>...</td>\n",
       "      <td>...</td>\n",
       "      <td>...</td>\n",
       "      <td>...</td>\n",
       "      <td>...</td>\n",
       "      <td>...</td>\n",
       "      <td>...</td>\n",
       "      <td>...</td>\n",
       "      <td>...</td>\n",
       "      <td>...</td>\n",
       "      <td>...</td>\n",
       "      <td>...</td>\n",
       "      <td>...</td>\n",
       "      <td>...</td>\n",
       "    </tr>\n",
       "    <tr>\n",
       "      <th>480</th>\n",
       "      <td>2022-03-01</td>\n",
       "      <td>00:00:00</td>\n",
       "      <td>80.0</td>\n",
       "      <td>3</td>\n",
       "      <td>SHED07W</td>\n",
       "      <td>2022-03-01</td>\n",
       "      <td>05:04:00</td>\n",
       "      <td>clark_01</td>\n",
       "      <td>SS</td>\n",
       "      <td>5.0</td>\n",
       "      <td>...</td>\n",
       "      <td>False</td>\n",
       "      <td>0.0</td>\n",
       "      <td>0.0</td>\n",
       "      <td>Slab not observed until March 17th during a sk...</td>\n",
       "      <td>Adam</td>\n",
       "      <td>2022-03-17 21:17:04</td>\n",
       "      <td>10.30.72.4</td>\n",
       "      <td>NaN</td>\n",
       "      <td>0000-00-00 00:00:00</td>\n",
       "      <td>NaN</td>\n",
       "    </tr>\n",
       "    <tr>\n",
       "      <th>481</th>\n",
       "      <td>2022-03-02</td>\n",
       "      <td>00:00:00</td>\n",
       "      <td>70.0</td>\n",
       "      <td>2</td>\n",
       "      <td>INFINITY</td>\n",
       "      <td>2022-03-02</td>\n",
       "      <td>11:35:00</td>\n",
       "      <td>clark_01</td>\n",
       "      <td>WL</td>\n",
       "      <td>5.0</td>\n",
       "      <td>...</td>\n",
       "      <td>False</td>\n",
       "      <td>0.0</td>\n",
       "      <td>0.0</td>\n",
       "      <td>One of the last avalanches observed during the...</td>\n",
       "      <td>Adam</td>\n",
       "      <td>2022-03-15 13:38:53</td>\n",
       "      <td>10.30.72.4</td>\n",
       "      <td>NaN</td>\n",
       "      <td>0000-00-00 00:00:00</td>\n",
       "      <td>NaN</td>\n",
       "    </tr>\n",
       "    <tr>\n",
       "      <th>482</th>\n",
       "      <td>2022-03-23</td>\n",
       "      <td>00:00:00</td>\n",
       "      <td>41.0</td>\n",
       "      <td>1</td>\n",
       "      <td>AP1163H</td>\n",
       "      <td>2022-03-23</td>\n",
       "      <td>13:30:00</td>\n",
       "      <td>clark_01</td>\n",
       "      <td>WL</td>\n",
       "      <td>5.0</td>\n",
       "      <td>...</td>\n",
       "      <td>False</td>\n",
       "      <td>0.0</td>\n",
       "      <td>0.0</td>\n",
       "      <td>NaN</td>\n",
       "      <td>Adam</td>\n",
       "      <td>2022-03-23 21:32:42</td>\n",
       "      <td>10.30.72.4</td>\n",
       "      <td>NaN</td>\n",
       "      <td>0000-00-00 00:00:00</td>\n",
       "      <td>NaN</td>\n",
       "    </tr>\n",
       "    <tr>\n",
       "      <th>483</th>\n",
       "      <td>2022-03-23</td>\n",
       "      <td>00:00:00</td>\n",
       "      <td>41.0</td>\n",
       "      <td>1</td>\n",
       "      <td>SHED10</td>\n",
       "      <td>2022-03-23</td>\n",
       "      <td>13:30:00</td>\n",
       "      <td>clark_01</td>\n",
       "      <td>WL</td>\n",
       "      <td>5.0</td>\n",
       "      <td>...</td>\n",
       "      <td>False</td>\n",
       "      <td>0.0</td>\n",
       "      <td>0.0</td>\n",
       "      <td>Obs on Mar. 24th from Hwy</td>\n",
       "      <td>Adam</td>\n",
       "      <td>2022-03-28 16:30:35</td>\n",
       "      <td>10.30.72.4</td>\n",
       "      <td>NaN</td>\n",
       "      <td>0000-00-00 00:00:00</td>\n",
       "      <td>NaN</td>\n",
       "    </tr>\n",
       "    <tr>\n",
       "      <th>484</th>\n",
       "      <td>2022-03-23</td>\n",
       "      <td>00:00:00</td>\n",
       "      <td>41.0</td>\n",
       "      <td>1</td>\n",
       "      <td>MCAMSER</td>\n",
       "      <td>2022-03-23</td>\n",
       "      <td>18:00:00</td>\n",
       "      <td>clark_01</td>\n",
       "      <td>HS</td>\n",
       "      <td>5.0</td>\n",
       "      <td>...</td>\n",
       "      <td>False</td>\n",
       "      <td>0.0</td>\n",
       "      <td>0.0</td>\n",
       "      <td>Obs on Mar. 24th from Hwy. Could not see runou...</td>\n",
       "      <td>Adam</td>\n",
       "      <td>2022-03-28 16:34:43</td>\n",
       "      <td>10.30.72.4</td>\n",
       "      <td>NaN</td>\n",
       "      <td>0000-00-00 00:00:00</td>\n",
       "      <td>NaN</td>\n",
       "    </tr>\n",
       "  </tbody>\n",
       "</table>\n",
       "<p>485 rows × 42 columns</p>\n",
       "</div>"
      ],
      "text/plain": [
       "          Date      Time  Score  Level  avpathid  avobsdate avobstime  \\\n",
       "0   2007-01-19  00:00:00    NaN      2    SHED11 2007-01-19  13:20:00   \n",
       "1   2007-02-07  00:00:00    NaN      1    SHED11 2007-02-07  09:30:00   \n",
       "2   2007-02-07  00:00:00    NaN      1      JAVA 2007-02-07  09:45:00   \n",
       "3   2007-02-16  00:00:00    NaN      1  PATH1163 2007-02-16  10:10:00   \n",
       "4   2007-02-16  00:00:00    NaN      1     JAKES 2007-02-16  10:10:00   \n",
       "..         ...       ...    ...    ...       ...        ...       ...   \n",
       "480 2022-03-01  00:00:00   80.0      3   SHED07W 2022-03-01  05:04:00   \n",
       "481 2022-03-02  00:00:00   70.0      2  INFINITY 2022-03-02  11:35:00   \n",
       "482 2022-03-23  00:00:00   41.0      1   AP1163H 2022-03-23  13:30:00   \n",
       "483 2022-03-23  00:00:00   41.0      1    SHED10 2022-03-23  13:30:00   \n",
       "484 2022-03-23  00:00:00   41.0      1   MCAMSER 2022-03-23  18:00:00   \n",
       "\n",
       "    avobserverid avtype  avtriggertyp  ... deb_hwy deb_hwy_w deb_hwy_d  \\\n",
       "0       stein_01      U           NaN  ...   False       0.0       0.0   \n",
       "1       stein_01     GS           5.0  ...   False       0.0       0.0   \n",
       "2       clark_01     SS           5.0  ...   False       0.0       0.0   \n",
       "3       stein_01      L           5.0  ...   False       0.0       0.0   \n",
       "4       stein_01     SS           5.0  ...   False       0.0       0.0   \n",
       "..           ...    ...           ...  ...     ...       ...       ...   \n",
       "480     clark_01     SS           5.0  ...   False       0.0       0.0   \n",
       "481     clark_01     WL           5.0  ...   False       0.0       0.0   \n",
       "482     clark_01     WL           5.0  ...   False       0.0       0.0   \n",
       "483     clark_01     WL           5.0  ...   False       0.0       0.0   \n",
       "484     clark_01     HS           5.0  ...   False       0.0       0.0   \n",
       "\n",
       "                                             avcomment edcr_user  \\\n",
       "0                                                  NaN       NaN   \n",
       "1    Debris terminated in bottom of run out, but st...       NaN   \n",
       "2                 Located on the top of Java Mountain.      Adam   \n",
       "3      Debris ran 1/2 path terminating above the rail.       NaN   \n",
       "4      Debris ran 1/2 path terminating above the rail.       NaN   \n",
       "..                                                 ...       ...   \n",
       "480  Slab not observed until March 17th during a sk...      Adam   \n",
       "481  One of the last avalanches observed during the...      Adam   \n",
       "482                                                NaN      Adam   \n",
       "483                          Obs on Mar. 24th from Hwy      Adam   \n",
       "484  Obs on Mar. 24th from Hwy. Could not see runou...      Adam   \n",
       "\n",
       "              edcr_time       edcr_ip  eded_user            eded_time  \\\n",
       "0   2016-03-17 11:50:56           NaN        NaN  0000-00-00 00:00:00   \n",
       "1   2016-03-17 11:50:56           NaN       Adam  2020-05-28 14:26:45   \n",
       "2   2020-05-28 14:31:17  139.51.15.17        NaN  0000-00-00 00:00:00   \n",
       "3   2016-03-17 11:50:56           NaN       Adam  2020-05-28 14:27:39   \n",
       "4   2016-03-17 11:50:56           NaN       Adam  2020-05-28 14:28:15   \n",
       "..                  ...           ...        ...                  ...   \n",
       "480 2022-03-17 21:17:04    10.30.72.4        NaN  0000-00-00 00:00:00   \n",
       "481 2022-03-15 13:38:53    10.30.72.4        NaN  0000-00-00 00:00:00   \n",
       "482 2022-03-23 21:32:42    10.30.72.4        NaN  0000-00-00 00:00:00   \n",
       "483 2022-03-28 16:30:35    10.30.72.4        NaN  0000-00-00 00:00:00   \n",
       "484 2022-03-28 16:34:43    10.30.72.4        NaN  0000-00-00 00:00:00   \n",
       "\n",
       "          eded_ip  \n",
       "0             NaN  \n",
       "1    139.51.15.17  \n",
       "2             NaN  \n",
       "3    139.51.15.17  \n",
       "4    139.51.15.17  \n",
       "..            ...  \n",
       "480           NaN  \n",
       "481           NaN  \n",
       "482           NaN  \n",
       "483           NaN  \n",
       "484           NaN  \n",
       "\n",
       "[485 rows x 42 columns]"
      ]
     },
     "execution_count": 4,
     "metadata": {},
     "output_type": "execute_result"
    }
   ],
   "source": [
    "radsavy = pd.merge(rads, avy, on=[\"Date\"])\n",
    "radsavy"
   ]
  },
  {
   "cell_type": "markdown",
   "id": "d2e194f8",
   "metadata": {},
   "source": [
    "#### My goal is to make a piechart but first I have to get my data organized the way I want"
   ]
  },
  {
   "cell_type": "markdown",
   "id": "416bbd07",
   "metadata": {},
   "source": [
    "#### Here I've found how many of each level we have in the original RADS dataframe"
   ]
  },
  {
   "cell_type": "code",
   "execution_count": 5,
   "id": "3e3d70e0",
   "metadata": {},
   "outputs": [
    {
     "data": {
      "text/plain": [
       "1    384\n",
       "2    328\n",
       "3     68\n",
       "4     10\n",
       "5      4\n",
       "Name: Level, dtype: int64"
      ]
     },
     "execution_count": 5,
     "metadata": {},
     "output_type": "execute_result"
    }
   ],
   "source": [
    "levelstot = rads['Level'].value_counts()\n",
    "levelstot"
   ]
  },
  {
   "cell_type": "markdown",
   "id": "378b2589",
   "metadata": {},
   "source": [
    "#### We can see that there are 384 Level 1s, 328 Level 2s, etc."
   ]
  },
  {
   "cell_type": "markdown",
   "id": "cf47a452",
   "metadata": {},
   "source": [
    "#### Now I'm taking this information to find how many levels we have in our RADS Level dataframe"
   ]
  },
  {
   "cell_type": "code",
   "execution_count": 6,
   "id": "c4928688",
   "metadata": {},
   "outputs": [
    {
     "data": {
      "text/plain": [
       "794"
      ]
     },
     "execution_count": 6,
     "metadata": {},
     "output_type": "execute_result"
    }
   ],
   "source": [
    "levelssum = rads['Level'].value_counts().sum()\n",
    "levelssum"
   ]
  },
  {
   "cell_type": "markdown",
   "id": "57f09b1c",
   "metadata": {},
   "source": [
    "#### There are 794 entries of Levels in total"
   ]
  },
  {
   "cell_type": "markdown",
   "id": "2fbd234a",
   "metadata": {},
   "source": [
    "#### Now I want the percentage of each Level in the RADS Level Dataframe"
   ]
  },
  {
   "cell_type": "code",
   "execution_count": 7,
   "id": "21ddc2f8",
   "metadata": {},
   "outputs": [
    {
     "data": {
      "text/plain": [
       "[0.4836272040302267,\n",
       " 0.41309823677581864,\n",
       " 0.08564231738035265,\n",
       " 0.012594458438287154,\n",
       " 0.005037783375314861]"
      ]
     },
     "execution_count": 7,
     "metadata": {},
     "output_type": "execute_result"
    }
   ],
   "source": [
    "levelsaver = [384/794, 328/794, 68/794, 10/794, 4/794]\n",
    "levelsaver"
   ]
  },
  {
   "cell_type": "markdown",
   "id": "2ebd210c",
   "metadata": {},
   "source": [
    "#### These are in order of Level # so we can see that Level 1 is 48% of the entries"
   ]
  },
  {
   "cell_type": "markdown",
   "id": "5c5c7f14",
   "metadata": {},
   "source": [
    "#### Now I'm getting information about the Levels when there is an avalanche. For example, this is telling us that there are 203 avalanches where the Level was 2"
   ]
  },
  {
   "cell_type": "code",
   "execution_count": 8,
   "id": "2838519c",
   "metadata": {},
   "outputs": [
    {
     "data": {
      "text/plain": [
       "2    203\n",
       "3    157\n",
       "1     56\n",
       "4     46\n",
       "5     23\n",
       "Name: Level, dtype: int64"
      ]
     },
     "execution_count": 8,
     "metadata": {},
     "output_type": "execute_result"
    }
   ],
   "source": [
    "levelsavy = radsavy['Level'].value_counts()\n",
    "levelsavy"
   ]
  },
  {
   "cell_type": "markdown",
   "id": "dac304a2",
   "metadata": {},
   "source": [
    "#### Now I want to get percentages for my pie chart. \n",
    "\n",
    "#### With these percentages we first take the percentage of a Level in the total Level entries (such as 48% for Level 1. We put this decimal under 1 because we are trying to weigh the percentage. \n",
    "\n",
    "#### And then we multiple it by numbers above which show the number of avalanches during a Level"
   ]
  },
  {
   "cell_type": "code",
   "execution_count": 9,
   "id": "845fba4d",
   "metadata": {},
   "outputs": [
    {
     "data": {
      "text/plain": [
       "[115.79166666666667,\n",
       " 491.4085365853659,\n",
       " 1833.205882352941,\n",
       " 3652.3999999999996,\n",
       " 4565.5]"
      ]
     },
     "execution_count": 9,
     "metadata": {},
     "output_type": "execute_result"
    }
   ],
   "source": [
    "levelsper = [(1/0.4836272040302267)*56, 1/(0.41309823677581864)*203, 1/(0.08564231738035265)*157, 1/(0.012594458438287154)*46, 1/(0.005037783375314861)*23]\n",
    "levelsper"
   ]
  },
  {
   "cell_type": "markdown",
   "id": "8dfccff1",
   "metadata": {},
   "source": [
    "#### With this list, we can make a piechart"
   ]
  },
  {
   "cell_type": "code",
   "execution_count": 10,
   "id": "36363098",
   "metadata": {},
   "outputs": [
    {
     "data": {
      "text/plain": [
       "([<matplotlib.patches.Wedge at 0x7f87331c6550>,\n",
       "  <matplotlib.patches.Wedge at 0x7f87331c6f10>,\n",
       "  <matplotlib.patches.Wedge at 0x7f87331c7910>,\n",
       "  <matplotlib.patches.Wedge at 0x7f87331c9310>,\n",
       "  <matplotlib.patches.Wedge at 0x7f87331c9cd0>],\n",
       " [Text(1.099359383033118, 0.037535941936254584, 'Level 1'),\n",
       "  Text(1.075116662458594, 0.23264600169333244, 'Level 2'),\n",
       "  Text(0.6852363423172362, 0.8604947153630262, 'Level 3'),\n",
       "  Text(-0.8911685531675553, 0.6448399877839822, 'Level 4'),\n",
       "  Text(0.24551414215175343, -1.0722512793200523, 'Level 5')])"
      ]
     },
     "execution_count": 10,
     "metadata": {},
     "output_type": "execute_result"
    },
    {
     "data": {
      "image/png": "[encoded data removed]",
      "text/plain": [
       "<Figure size 432x288 with 1 Axes>"
      ]
     },
     "metadata": {},
     "output_type": "display_data"
    }
   ],
   "source": [
    "plt.pie(levelsper, labels = ['Level 1', 'Level 2', 'Level 3', 'Level 4', 'Level 5'])"
   ]
  },
  {
   "cell_type": "markdown",
   "id": "cb4ae815",
   "metadata": {},
   "source": [
    "#### Here is the pie chart. It shows the percentage of avalanches during a certain level. Yay!"
   ]
  },
  {
   "cell_type": "code",
   "execution_count": null,
   "id": "834b963a",
   "metadata": {},
   "outputs": [],
   "source": []
  }
 ],
 "metadata": {
  "kernelspec": {
   "display_name": "Python 3 (ipykernel)",
   "language": "python",
   "name": "python3"
  },
  "language_info": {
   "codemirror_mode": {
    "name": "ipython",
    "version": 3
   },
   "file_extension": ".py",
   "mimetype": "text/x-python",
   "name": "python",
   "nbconvert_exporter": "python",
   "pygments_lexer": "ipython3",
   "version": "3.9.12"
  }
 },
 "nbformat": 4,
 "nbformat_minor": 5
}
