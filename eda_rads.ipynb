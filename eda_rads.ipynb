{
 "cells": [
  {
   "cell_type": "markdown",
   "id": "44dd9904",
   "metadata": {},
   "source": [
    "# Exploratory Data Analysis of RADS pkl\n",
    "\n",
    "#### Charlotte Burbridge! :)"
   ]
  },
  {
   "cell_type": "code",
   "execution_count": 37,
   "id": "0efddd8b",
   "metadata": {},
   "outputs": [],
   "source": [
    "import pandas as pd\n",
    "import matplotlib.pyplot as plt"
   ]
  },
  {
   "cell_type": "code",
   "execution_count": 38,
   "id": "a0946b10",
   "metadata": {},
   "outputs": [
    {
     "data": {
      "text/html": [
       "<div>\n",
       "<style scoped>\n",
       "    .dataframe tbody tr th:only-of-type {\n",
       "        vertical-align: middle;\n",
       "    }\n",
       "\n",
       "    .dataframe tbody tr th {\n",
       "        vertical-align: top;\n",
       "    }\n",
       "\n",
       "    .dataframe thead th {\n",
       "        text-align: right;\n",
       "    }\n",
       "</style>\n",
       "<table border=\"1\" class=\"dataframe\">\n",
       "  <thead>\n",
       "    <tr style=\"text-align: right;\">\n",
       "      <th></th>\n",
       "      <th>Date</th>\n",
       "      <th>Time</th>\n",
       "      <th>Score</th>\n",
       "      <th>Level</th>\n",
       "    </tr>\n",
       "  </thead>\n",
       "  <tbody>\n",
       "    <tr>\n",
       "      <th>0</th>\n",
       "      <td>12/14/2006</td>\n",
       "      <td>00:00:00</td>\n",
       "      <td>NaN</td>\n",
       "      <td>1</td>\n",
       "    </tr>\n",
       "    <tr>\n",
       "      <th>1</th>\n",
       "      <td>12/15/2006</td>\n",
       "      <td>00:00:00</td>\n",
       "      <td>NaN</td>\n",
       "      <td>1</td>\n",
       "    </tr>\n",
       "    <tr>\n",
       "      <th>2</th>\n",
       "      <td>12/21/2006</td>\n",
       "      <td>00:00:00</td>\n",
       "      <td>NaN</td>\n",
       "      <td>1</td>\n",
       "    </tr>\n",
       "    <tr>\n",
       "      <th>3</th>\n",
       "      <td>12/27/2006</td>\n",
       "      <td>00:00:00</td>\n",
       "      <td>NaN</td>\n",
       "      <td>1</td>\n",
       "    </tr>\n",
       "    <tr>\n",
       "      <th>4</th>\n",
       "      <td>1/3/2007</td>\n",
       "      <td>00:00:00</td>\n",
       "      <td>NaN</td>\n",
       "      <td>2</td>\n",
       "    </tr>\n",
       "    <tr>\n",
       "      <th>...</th>\n",
       "      <td>...</td>\n",
       "      <td>...</td>\n",
       "      <td>...</td>\n",
       "      <td>...</td>\n",
       "    </tr>\n",
       "    <tr>\n",
       "      <th>789</th>\n",
       "      <td>3/21/2022</td>\n",
       "      <td>00:00:00</td>\n",
       "      <td>27.0</td>\n",
       "      <td>1</td>\n",
       "    </tr>\n",
       "    <tr>\n",
       "      <th>790</th>\n",
       "      <td>3/23/2022</td>\n",
       "      <td>00:00:00</td>\n",
       "      <td>41.0</td>\n",
       "      <td>1</td>\n",
       "    </tr>\n",
       "    <tr>\n",
       "      <th>791</th>\n",
       "      <td>3/29/2022</td>\n",
       "      <td>00:00:00</td>\n",
       "      <td>30.0</td>\n",
       "      <td>1</td>\n",
       "    </tr>\n",
       "    <tr>\n",
       "      <th>792</th>\n",
       "      <td>4/4/2022</td>\n",
       "      <td>00:00:00</td>\n",
       "      <td>36.0</td>\n",
       "      <td>1</td>\n",
       "    </tr>\n",
       "    <tr>\n",
       "      <th>793</th>\n",
       "      <td>4/13/2022</td>\n",
       "      <td>00:00:00</td>\n",
       "      <td>20.0</td>\n",
       "      <td>1</td>\n",
       "    </tr>\n",
       "  </tbody>\n",
       "</table>\n",
       "<p>794 rows × 4 columns</p>\n",
       "</div>"
      ],
      "text/plain": [
       "           Date      Time  Score  Level\n",
       "0    12/14/2006  00:00:00    NaN      1\n",
       "1    12/15/2006  00:00:00    NaN      1\n",
       "2    12/21/2006  00:00:00    NaN      1\n",
       "3    12/27/2006  00:00:00    NaN      1\n",
       "4      1/3/2007  00:00:00    NaN      2\n",
       "..          ...       ...    ...    ...\n",
       "789   3/21/2022  00:00:00   27.0      1\n",
       "790   3/23/2022  00:00:00   41.0      1\n",
       "791   3/29/2022  00:00:00   30.0      1\n",
       "792    4/4/2022  00:00:00   36.0      1\n",
       "793   4/13/2022  00:00:00   20.0      1\n",
       "\n",
       "[794 rows x 4 columns]"
      ]
     },
     "execution_count": 38,
     "metadata": {},
     "output_type": "execute_result"
    }
   ],
   "source": [
    "rads = pd.read_pickle('data-prep/pkl/rads.pkl')\n",
    "rads"
   ]
  },
  {
   "cell_type": "code",
   "execution_count": 39,
   "id": "1aeedc23",
   "metadata": {},
   "outputs": [
    {
     "name": "stdout",
     "output_type": "stream",
     "text": [
      "<class 'pandas.core.frame.DataFrame'>\n",
      "RangeIndex: 794 entries, 0 to 793\n",
      "Data columns (total 4 columns):\n",
      " #   Column  Non-Null Count  Dtype  \n",
      "---  ------  --------------  -----  \n",
      " 0   Date    794 non-null    object \n",
      " 1   Time    794 non-null    object \n",
      " 2   Score   701 non-null    float64\n",
      " 3   Level   794 non-null    int64  \n",
      "dtypes: float64(1), int64(1), object(2)\n",
      "memory usage: 24.9+ KB\n"
     ]
    }
   ],
   "source": [
    "rads.info()"
   ]
  },
  {
   "cell_type": "code",
   "execution_count": 40,
   "id": "bcc7f338",
   "metadata": {},
   "outputs": [
    {
     "data": {
      "text/plain": [
       "0       NaN\n",
       "1       NaN\n",
       "2       NaN\n",
       "3       NaN\n",
       "4       NaN\n",
       "       ... \n",
       "789    27.0\n",
       "790    41.0\n",
       "791    30.0\n",
       "792    36.0\n",
       "793    20.0\n",
       "Name: Score, Length: 794, dtype: float64"
      ]
     },
     "execution_count": 40,
     "metadata": {},
     "output_type": "execute_result"
    }
   ],
   "source": [
    "rads['Score']"
   ]
  },
  {
   "cell_type": "code",
   "execution_count": 41,
   "id": "582741ff",
   "metadata": {},
   "outputs": [
    {
     "data": {
      "image/png": "[encoded data removed]",
      "text/plain": [
       "<Figure size 432x288 with 1 Axes>"
      ]
     },
     "metadata": {
      "needs_background": "light"
     },
     "output_type": "display_data"
    }
   ],
   "source": [
    "x = rads['Score']\n",
    "y = rads['Level']\n",
    "\n",
    "plt.scatter(x, y, c =\"pink\")\n",
    "\n",
    "plt.show()"
   ]
  },
  {
   "cell_type": "code",
   "execution_count": 42,
   "id": "3a12687c",
   "metadata": {},
   "outputs": [
    {
     "data": {
      "text/plain": [
       "50.0     51\n",
       "49.0     35\n",
       "47.0     21\n",
       "46.0     17\n",
       "41.0     16\n",
       "         ..\n",
       "24.0      1\n",
       "108.0     1\n",
       "28.0      1\n",
       "101.0     1\n",
       "98.0      1\n",
       "Name: Score, Length: 91, dtype: int64"
      ]
     },
     "execution_count": 42,
     "metadata": {},
     "output_type": "execute_result"
    }
   ],
   "source": [
    "rads['Score'].value_counts()"
   ]
  },
  {
   "cell_type": "markdown",
   "id": "d56ad03f",
   "metadata": {},
   "source": [
    "#### Things to Work on\n",
    "\n",
    "- Rads over time visualization\n",
    "- Look at avalanche occurances in comparsion with the RADS Level (Do the Levels Correlate with what actually happens?)"
   ]
  },
  {
   "cell_type": "code",
   "execution_count": null,
   "id": "4feddb9b",
   "metadata": {},
   "outputs": [],
   "source": [
    "xx = rads['Date']\n",
    "yy = rads['Level']\n",
    "  \n",
    "fig = plt.figure(figsize = (10, 5))\n",
    " \n",
    "# creating the bar plot\n",
    "plt.bar(xx, yy, color ='maroon')\n",
    " \n",
    "plt.xlabel(\"Dates\")\n",
    "plt.ylabel(\"Levels\")\n",
    "plt.title(\"RAD Levels Over Time\")\n",
    "plt.show()"
   ]
  },
  {
   "cell_type": "code",
   "execution_count": null,
   "id": "0bac68ec",
   "metadata": {},
   "outputs": [],
   "source": []
  }
 ],
 "metadata": {
  "kernelspec": {
   "display_name": "Python 3 (ipykernel)",
   "language": "python",
   "name": "python3"
  },
  "language_info": {
   "codemirror_mode": {
    "name": "ipython",
    "version": 3
   },
   "file_extension": ".py",
   "mimetype": "text/x-python",
   "name": "python",
   "nbconvert_exporter": "python",
   "pygments_lexer": "ipython3",
   "version": "3.9.12"
  }
 },
 "nbformat": 4,
 "nbformat_minor": 5
}
