{
 "cells": [
  {
   "attachments": {},
   "cell_type": "markdown",
   "metadata": {},
   "source": [
    "# Weather and Avalanches"
   ]
  },
  {
   "cell_type": "code",
   "execution_count": 16,
   "metadata": {},
   "outputs": [],
   "source": [
    "import pandas as pd\n",
    "\n",
    "pd.set_option(\"display.max_columns\", None)"
   ]
  },
  {
   "cell_type": "code",
   "execution_count": 17,
   "metadata": {},
   "outputs": [],
   "source": [
    "avy = pd.read_pickle(\"./data-prep/pkl/avy_obs.pkl\")\n",
    "wx = pd.read_pickle(\"./data-prep/pkl/all_wx.pkl\")"
   ]
  },
  {
   "cell_type": "code",
   "execution_count": 19,
   "metadata": {},
   "outputs": [
    {
     "name": "stdout",
     "output_type": "stream",
     "text": [
      "<class 'pandas.core.frame.DataFrame'>\n",
      "RangeIndex: 155159 entries, 0 to 155158\n",
      "Data columns (total 21 columns):\n",
      " #   Column             Non-Null Count   Dtype         \n",
      "---  ------             --------------   -----         \n",
      " 0   dt                 155159 non-null  datetime64[ns]\n",
      " 1   temp               155159 non-null  float64       \n",
      " 2   dew_pt             136839 non-null  float64       \n",
      " 3   rH                 136783 non-null  float64       \n",
      " 4   heat_idx           2958 non-null    float64       \n",
      " 5   wind_chill         58968 non-null   float64       \n",
      " 6   wind_dir           147187 non-null  object        \n",
      " 7   wind_spd           155159 non-null  object        \n",
      " 8   hr_precip          34541 non-null   float64       \n",
      " 9   snow_depth         87075 non-null   float64       \n",
      " 10  snowfall_3hr       85961 non-null   float64       \n",
      " 11  snowfall_6hr       85612 non-null   float64       \n",
      " 12  snowfall_24hr      85358 non-null   float64       \n",
      " 13  site               155159 non-null  object        \n",
      " 14  file_name          155159 non-null  object        \n",
      " 15  year               155159 non-null  object        \n",
      " 16  sea_lvl_press      67185 non-null   float64       \n",
      " 17  sta_press          84949 non-null   float64       \n",
      " 18  altimeter_setting  84949 non-null   float64       \n",
      " 19  solar_radiation    85365 non-null   float64       \n",
      " 20  pct_possible       85365 non-null   object        \n",
      "dtypes: datetime64[ns](1), float64(14), object(6)\n",
      "memory usage: 24.9+ MB\n"
     ]
    }
   ],
   "source": [
    "wx.info()"
   ]
  },
  {
   "cell_type": "code",
   "execution_count": null,
   "metadata": {},
   "outputs": [],
   "source": []
  }
 ],
 "metadata": {
  "kernelspec": {
   "display_name": "base",
   "language": "python",
   "name": "python3"
  },
  "language_info": {
   "codemirror_mode": {
    "name": "ipython",
    "version": 3
   },
   "file_extension": ".py",
   "mimetype": "text/x-python",
   "name": "python",
   "nbconvert_exporter": "python",
   "pygments_lexer": "ipython3",
   "version": "3.9.12"
  },
  "orig_nbformat": 4,
  "vscode": {
   "interpreter": {
    "hash": "82d6084fa52bbfe44e5d8bdc73d8f0ad601b91fd13e433e4ea3f469c7d7efe20"
   }
  }
 },
 "nbformat": 4,
 "nbformat_minor": 2
}
