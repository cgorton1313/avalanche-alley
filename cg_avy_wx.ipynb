{
 "cells": [
  {
   "cell_type": "markdown",
   "id": "a221e473",
   "metadata": {},
   "source": [
    "# Machine Learning avy_wx Data (focus on deb_rail)\n",
    "#### Mr. Gorton (but mostly MG)"
   ]
  },
  {
   "cell_type": "code",
   "execution_count": null,
   "id": "4f075d79",
   "metadata": {},
   "outputs": [],
   "source": [
    "import pandas as pd\n",
    "\n",
    "avy_wx = pd.read_pickle('data-prep/pkl/avywx2.pkl')\n",
    "# avy_wx"
   ]
  },
  {
   "cell_type": "code",
   "execution_count": null,
   "id": "e8ec5670",
   "metadata": {
    "scrolled": true
   },
   "outputs": [],
   "source": [
    "# avy_wx.info()"
   ]
  },
  {
   "cell_type": "markdown",
   "id": "6a5f0e57",
   "metadata": {},
   "source": [
    "### Features I think we can use\n",
    "\n",
    "Why do I think we can use these? Most of the avy obs data was observed after the target event (deb_rail) and would cause data leakage if we were to use it. \n",
    "\n",
    "I chose to include `ch_max_cm` because I theorize that a snow pit might be able to help determine what that value would be."
   ]
  },
  {
   "cell_type": "code",
   "execution_count": null,
   "id": "52ee3fad",
   "metadata": {},
   "outputs": [],
   "source": [
    "fitwcu = ['avpathid', 'ch_max_cm', 'temp', 'dew_pt', 'rH', 'snow_depth', 'snowfall_3hr', 'snowfall_6hr', 'snowfall_24hr']\n",
    "# fitwcu = ['avpathid', 'temp', 'dew_pt', 'rH', 'snow_depth', 'snowfall_3hr', 'snowfall_6hr', 'snowfall_24hr']\n",
    "# fitwcu = ['avpathid', 'ch_max_cm']\n",
    "\n",
    "# TODO: add wind_spd (needs to be parsed)\n",
    "# TODO: date? days into season?\n",
    "\n",
    "tts_rnd = 2 # use this to change the train_test_split random state"
   ]
  },
  {
   "cell_type": "markdown",
   "id": "664e4e9c",
   "metadata": {},
   "source": [
    "### Separating X & y"
   ]
  },
  {
   "cell_type": "code",
   "execution_count": null,
   "id": "6f250628",
   "metadata": {},
   "outputs": [],
   "source": [
    "X = avy_wx[fitwcu]\n",
    "y = avy_wx['deb_rail']"
   ]
  },
  {
   "cell_type": "markdown",
   "id": "fc7592e9",
   "metadata": {},
   "source": [
    "### Separating Columns according to dtypes"
   ]
  },
  {
   "cell_type": "code",
   "execution_count": null,
   "id": "af90a441",
   "metadata": {},
   "outputs": [],
   "source": [
    "cat_cols = X.select_dtypes(include='object').columns\n",
    "num_cols = X.select_dtypes(include='number').columns\n",
    "other_cols = X.select_dtypes(exclude=['object', 'number']).columns\n",
    "\n",
    "print(cat_cols)\n",
    "print(num_cols)\n",
    "print(other_cols)"
   ]
  },
  {
   "cell_type": "markdown",
   "id": "9181e220",
   "metadata": {},
   "source": [
    "### Splitting into X_train, y_train, X_valid, y_valid"
   ]
  },
  {
   "cell_type": "code",
   "execution_count": null,
   "id": "b8fc1bf0",
   "metadata": {},
   "outputs": [],
   "source": [
    "from sklearn.model_selection import train_test_split\n",
    "\n",
    "X_train, X_valid, y_train, y_valid = train_test_split(X, y, random_state=tts_rnd)"
   ]
  },
  {
   "cell_type": "markdown",
   "id": "5384824b",
   "metadata": {},
   "source": [
    "### Determining Which Columns Are Missing Values\n",
    "\n",
    "I actually don't care. The SimpleImputer will only act of NaN values and the OHE will ignore NaN's."
   ]
  },
  {
   "cell_type": "code",
   "execution_count": null,
   "id": "1ccf8285",
   "metadata": {},
   "outputs": [],
   "source": [
    "# avy_wx[num_cols].isnull().any()"
   ]
  },
  {
   "cell_type": "code",
   "execution_count": null,
   "id": "84634602",
   "metadata": {},
   "outputs": [],
   "source": [
    "# cols_missing_num = [col for col in X[num_cols] if X[col].isnull().any() == True]\n",
    "# cols_missing_num"
   ]
  },
  {
   "cell_type": "code",
   "execution_count": null,
   "id": "be588fa9",
   "metadata": {},
   "outputs": [],
   "source": [
    "# X[cat_cols].isnull().any()"
   ]
  },
  {
   "cell_type": "code",
   "execution_count": null,
   "id": "f176a4ac",
   "metadata": {
    "scrolled": true
   },
   "outputs": [],
   "source": [
    "# cols_missing_cat = [col for col in X[cat_cols] if X[col].isnull().any() == True]\n",
    "# cols_missing_cat"
   ]
  },
  {
   "cell_type": "code",
   "execution_count": null,
   "id": "ceec9dd7",
   "metadata": {},
   "outputs": [],
   "source": [
    "# full_cols = [col for col in X.columns if X[col].isnull().any() == False]\n",
    "# full_cols"
   ]
  },
  {
   "cell_type": "markdown",
   "id": "363c3efc",
   "metadata": {},
   "source": [
    "### Imputation of Numerical Columns"
   ]
  },
  {
   "cell_type": "code",
   "execution_count": null,
   "id": "9b5e4db2",
   "metadata": {},
   "outputs": [],
   "source": [
    "from sklearn.impute import SimpleImputer\n",
    "imputer = SimpleImputer()\n",
    "\n",
    "imputer_X_train = pd.DataFrame(imputer.fit_transform(X_train[num_cols]))\n",
    "imputer_X_valid = pd.DataFrame(imputer.transform(X_valid[num_cols]))\n",
    "\n",
    "imputer_X_train.columns = num_cols\n",
    "imputer_X_valid.columns = num_cols\n",
    "\n",
    "imputer_X_train.index = X_train.index\n",
    "imputer_X_valid.index = X_valid.index"
   ]
  },
  {
   "cell_type": "markdown",
   "id": "ffe07183",
   "metadata": {},
   "source": [
    "### Checking Number of Unique Values per Categorical Column\n",
    "\n",
    "This is great for determining whether the cardinality of a column precludes one-hot encoding. In the case or `avrid`, it does not."
   ]
  },
  {
   "cell_type": "code",
   "execution_count": null,
   "id": "60d3614b",
   "metadata": {},
   "outputs": [],
   "source": [
    "# object_nunique = list(map(lambda col: X_train[col].nunique(), cols_missing_cat))\n",
    "# d = dict(zip(cols_missing_cat, object_nunique))\n",
    "\n",
    "# sorted(d.items(), key=lambda x: x[1])"
   ]
  },
  {
   "cell_type": "code",
   "execution_count": null,
   "id": "6ceeb40b",
   "metadata": {},
   "outputs": [],
   "source": [
    "from sklearn.preprocessing import OneHotEncoder\n",
    "\n",
    "OH_encoder = OneHotEncoder(handle_unknown='ignore', sparse=False)\n",
    "\n",
    "OH_cols_train = pd.DataFrame(OH_encoder.fit_transform(X_train[cat_cols]))\n",
    "OH_cols_valid = pd.DataFrame(OH_encoder.transform(X_valid[cat_cols]))\n",
    "\n",
    "OH_cols_train.index = X_train.index\n",
    "OH_cols_valid.index = X_valid.index\n",
    "\n",
    "OH_cols_train.columns = OH_encoder.get_feature_names_out()\n",
    "OH_cols_valid.columns = OH_encoder.get_feature_names_out()\n",
    "\n",
    "# this is a little different than what MG did\n",
    "full_X_train = pd.concat([imputer_X_train, OH_cols_train], axis=1)\n",
    "full_X_valid = pd.concat([imputer_X_valid, OH_cols_valid], axis=1)\n",
    "\n",
    "# use if no num cols\n",
    "# full_X_train = OH_cols_train.copy()\n",
    "# full_X_valid = OH_cols_valid.copy()"
   ]
  },
  {
   "cell_type": "code",
   "execution_count": null,
   "id": "1460772a",
   "metadata": {},
   "outputs": [],
   "source": [
    "# is this set to go?\n",
    "# full_X_train.info()"
   ]
  },
  {
   "cell_type": "markdown",
   "id": "0b93ba42",
   "metadata": {},
   "source": [
    "### Comparing Classifiers"
   ]
  },
  {
   "cell_type": "markdown",
   "id": "5355710a",
   "metadata": {},
   "source": [
    "##### Decision Tree Classifier"
   ]
  },
  {
   "cell_type": "code",
   "execution_count": null,
   "id": "eea6feec",
   "metadata": {},
   "outputs": [],
   "source": [
    "from sklearn.tree import DecisionTreeClassifier\n",
    "from sklearn.metrics import accuracy_score\n",
    "\n",
    "dtc_model = DecisionTreeClassifier(random_state=0)\n",
    "\n",
    "dtc_model.fit(full_X_train, y_train)\n",
    "\n",
    "dtc_val_predictions = dtc_model.predict(full_X_valid)\n",
    "\n",
    "print(\"Accuracy:\", accuracy_score(dtc_val_predictions, y_valid))"
   ]
  },
  {
   "cell_type": "markdown",
   "id": "39f08159",
   "metadata": {},
   "source": [
    "##### Random Forest Classifier"
   ]
  },
  {
   "cell_type": "code",
   "execution_count": null,
   "id": "4487e7de",
   "metadata": {},
   "outputs": [],
   "source": [
    "from sklearn.ensemble import RandomForestClassifier\n",
    "\n",
    "rf_model = RandomForestClassifier(random_state = 1)\n",
    "rf_model.fit(full_X_train, y_train)\n",
    "\n",
    "rf_val_predictions = rf_model.predict(full_X_valid)\n",
    "\n",
    "print(\"Accuracy:\", accuracy_score(rf_val_predictions, y_valid))"
   ]
  },
  {
   "cell_type": "markdown",
   "id": "1f404fde",
   "metadata": {},
   "source": [
    "##### Naive Bayes Classifier"
   ]
  },
  {
   "cell_type": "code",
   "execution_count": null,
   "id": "2f3f099f",
   "metadata": {},
   "outputs": [],
   "source": []
  },
  {
   "cell_type": "markdown",
   "id": "0696e484",
   "metadata": {},
   "source": [
    "##### Gradient Boosting Classifier"
   ]
  },
  {
   "cell_type": "code",
   "execution_count": null,
   "id": "f7467505",
   "metadata": {},
   "outputs": [],
   "source": []
  },
  {
   "cell_type": "markdown",
   "id": "40a52eb4",
   "metadata": {},
   "source": [
    "### Visualize Decision Tree\n",
    "\n",
    "About the coolest thing ever"
   ]
  },
  {
   "cell_type": "code",
   "execution_count": null,
   "id": "c4d6e4c9",
   "metadata": {},
   "outputs": [],
   "source": [
    "import matplotlib.pyplot as plt\n",
    "from sklearn import tree\n",
    "\n",
    "fig = plt.figure(figsize=(32,18))\n",
    "tree.plot_tree(dtc_model, feature_names=full_X_train.columns)\n",
    "plt.show()\n",
    "\n",
    "# hi"
   ]
  }
 ],
 "metadata": {
  "kernelspec": {
   "display_name": "Python 3.10.5 64-bit",
   "language": "python",
   "name": "python3"
  },
  "language_info": {
   "codemirror_mode": {
    "name": "ipython",
    "version": 3
   },
   "file_extension": ".py",
   "mimetype": "text/x-python",
   "name": "python",
   "nbconvert_exporter": "python",
   "pygments_lexer": "ipython3",
   "version": "3.10.5"
  },
  "vscode": {
   "interpreter": {
    "hash": "aee8b7b246df8f9039afb4144a1f6fd8d2ca17a180786b69acc140d282b71a49"
   }
  }
 },
 "nbformat": 4,
 "nbformat_minor": 5
}
